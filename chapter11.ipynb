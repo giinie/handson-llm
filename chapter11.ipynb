{
 "cells": [
  {
   "cell_type": "markdown",
   "metadata": {
    "id": "g_a9QvUFVCUR"
   },
   "source": [
    "<h1>11장 분류용 표현 모델 미세 튜닝하기</h1>\n",
    "<i>표현 모델의 분류 성능 탐험하기</i>\n",
    "\n",
    "<a href=\"https://github.com/rickiepark/handson-llm\"><img src=\"https://img.shields.io/badge/GitHub%20Repository-black?logo=github\"></a>\n",
    "[![Open In Colab](https://colab.research.google.com/assets/colab-badge.svg)](https://colab.research.google.com/github/rickiepark/handson-llm/blob/main/chapter11.ipynb)\n",
    "\n",
    "---\n",
    "\n",
    "이 노트북은 <[핸즈온 LLM](https://tensorflow.blog/handson-llm/)> 책 11장의 코드를 담고 있습니다.\n",
    "\n",
    "---\n",
    "\n",
    "<a href=\"https://tensorflow.blog/handson-llm/\">\n",
    "<img src=\"https://tensorflow.blog/wp-content/uploads/2025/05/ed95b8eca688ec98a8_llm.jpg\" width=\"350\"/></a>"
   ]
  },
  {
   "cell_type": "markdown",
   "metadata": {
    "id": "kLRsOpmiz0O4"
   },
   "source": [
    "### [선택사항] - <img src=\"https://colab.google/static/images/icons/colab.png\" width=100>에서 패키지 선택하기\n",
    "\n",
    "\n",
    "이 노트북을 구글 코랩에서 실행한다면 다음 코드 셀을 실행하여 이 노트북에서 필요한 패키지를  설치하세요.\n",
    "\n",
    "---\n",
    "\n",
    "💡 **NOTE**: 이 노트북의 코드를 실행하려면 GPU를 사용하는 것이 좋습니다. 구글 코랩에서는 **런타임 > 런타임 유형 변경 > 하드웨어 가속기 > T4 GPU**를 선택하세요.\n",
    "\n",
    "---"
   ]
  },
  {
   "cell_type": "code",
   "metadata": {
    "id": "wkMKBaWyz0O4"
   },
   "source": [
    "%%capture\n",
    "!pip install datasets setfit seqeval"
   ],
   "outputs": [],
   "execution_count": null
  },
  {
   "cell_type": "markdown",
   "metadata": {
    "id": "UBeVnXxQWy7-"
   },
   "source": [
    "## 데이터"
   ]
  },
  {
   "cell_type": "code",
   "metadata": {
    "colab": {
     "base_uri": "https://localhost:8080/",
     "height": 241,
     "referenced_widgets": [
      "d4ae9a6a934b4b6f82f71d679b55eb86",
      "11e4949ebffa441aba59ffe7957f5de6",
      "57951f41b5224d3793fc5701dfedc797",
      "6e154d56dfcd4f8f93f19a5dabc3afbb",
      "17376115a80840ebb288679247540833",
      "e703d90bfb444af9bfde4d879d2a2525",
      "df5f2313c8e047fe9f18df8479880313",
      "614019eff41046928a901725c69b7fe9",
      "a0cb7aff8b174a76b4228030af928110",
      "f721484513e34be2aa78f593a20257ad",
      "75e4e40027334ceaae5d3a01f2883144",
      "5b9daa0dc91f4340a548b6570a9c904b",
      "adab62ce6c6348d5b258db496a084dba",
      "67627726c9354e33ad8d743297e46d3b",
      "d1800f3e68a84ba692a24ca0ff4bb875",
      "a7d6d0fa9b384bff8ac0ae6a4470bb75",
      "16d72aff078d4132ab018c4ab43ee7f9",
      "02e0c1f6aa9443eda13a8c23bbc30802",
      "4665f98bd4b54182b41c70b222276a8e",
      "7941a5a3dcf1475abf4fe08fdd0bf8ba",
      "c4578b20ff38430bb182bb2dbf969e1f",
      "973f56fd8dcb47e28868a1d6d149c328",
      "b3df10a4b75e45309c8f08539be3d915",
      "03633c4b9e484e6e8552ff921770ad93",
      "fc0f2945f4854bd78a8ac8ac63fe69f2",
      "aa60f90512324c89a3cbdc519e88857e",
      "36506c2537d444178c512b75297159ae",
      "59571638f5ea44d2bfe42b9c6e1198b3",
      "19b7d31d0dc54de58dcdb05d0cedd389",
      "49aaf4dec1524aff856952999709a925",
      "dd7c5996b0294e3db5ffd98698f744cc",
      "24b5987d0da545c59d4c19dfe736d1c2",
      "66224ac3075d44759ed3f14528c1cf06",
      "d0883c489999401aad787cb5f671ddd7",
      "b14dfecae0664274a6c3d77092c2a4a6",
      "277c0fbb025143bfaeee39595cc40df9",
      "969d7fd384ef445fb31ba783954bce90",
      "edc6aa25914d4edc81560149a2ab72d0",
      "4865b41d2ff9475b8da9ea199012b6be",
      "79c32d51dca645169678eb49364a5639",
      "b23e7ba29ec94d65a5a64da135091568",
      "1efc41cd70174c479fcc906353d14232",
      "5c252683ebd84192ba68d47e0a3a3b8e",
      "4f82a77e3a2947c7a9a50a6be51e9fc5",
      "ea0caed27a174af184e8773b7cfa0efc",
      "e83bddd4a18343f197c2c6fa357d84da",
      "f5f708e3806d49a0a737c61acbf2f60d",
      "e35cc2f530204ec18d27a649158bf09d",
      "4eee46793b0e480983fa2678d263c2d2",
      "4d102215733045b58682a2a5bc860ff8",
      "6e2b483cfaa6401f9f577ee41f1a9711",
      "ef6e3207f268416cad8711307e7ae760",
      "924ad952f8c14cf0a8597f7cc890018a",
      "53cf958e19ce4632990d16c3c9e80c14",
      "7d55d03a1c694080b153845082d337ac",
      "e5bfb81f29734666b917e45d1203ca80",
      "8e616c69f7f54f088bb92c2656a076f3",
      "9cfaeaa2533d4536beebd3d09d28de1e",
      "70008025fd5e4feab508c28e31dc3550",
      "7f9a19a8f8474a26a36b77dcc769f27e",
      "3612c6ba751b41ab981b8a75a5e84dc2",
      "92f44831676d42b891dba7f817ec0ef7",
      "8e299a9d408c4c0598d9d7283bd8a05a",
      "a0dbfeb81dd74721988ef9f4c09f9ae0",
      "41dc7d573aaf48829df0df5887b40b98",
      "4ce2bbb5f4384b4989444112235f0b2a",
      "b617dd6905894a7cbbf44719a2fb7b29",
      "b658919c352944f18cb01f65c6795825",
      "ca7d31d4e81a4a2aa2cd66512fb4c028",
      "1e7ccca566824a79913672ba60bd6909",
      "e9aab24ac097498f8ddb32fc2b1ceb0d",
      "323e1010f5a24d0fb273aad08c0d1f11",
      "38843b7a2dcb4adb86b301e908b3d44b",
      "0819a705b47f47968ad4a2c52589de84",
      "c8d74a7c55ea416491eebc96cd2d04e8",
      "ad4dd71495954a9a9cc6126ea1578363",
      "26cc2bee2800480b9429716c4ee95eed"
     ]
    },
    "id": "5phRS_z2U_3T",
    "outputId": "05d6ffc1-c5d3-45c4-9475-af7721ac028b"
   },
   "source": [
    "from datasets import load_dataset\n",
    "\n",
    "# 데이터를 준비하고 분할합니다.\n",
    "tomatoes = load_dataset(\"rotten_tomatoes\")\n",
    "train_data, test_data = tomatoes[\"train\"], tomatoes[\"test\"]"
   ],
   "outputs": [],
   "execution_count": null
  },
  {
   "cell_type": "markdown",
   "metadata": {
    "id": "xya5dfmVoR1R"
   },
   "source": [
    "## 지도 분류"
   ]
  },
  {
   "cell_type": "markdown",
   "metadata": {
    "id": "ODEmWQe8W_le"
   },
   "source": [
    "### 허깅 페이스 Trainer"
   ]
  },
  {
   "cell_type": "code",
   "metadata": {
    "colab": {
     "base_uri": "https://localhost:8080/",
     "height": 284,
     "referenced_widgets": [
      "77c5afbbb9934bd2aec18d92e3d802f6",
      "1225272ab6f84e7f829dad80d9a10e70",
      "575a0394691744829807fa5263582779",
      "bf13afb385c8416daf1755b51fcccfeb",
      "6031cb285c6140b588dc885683bee8cb",
      "1524ee58f2ad4e15a3211ce6e6475499",
      "83a0f27065cb41839c69a693d8143859",
      "98896fef1d424c15a00958bee1969507",
      "46c1d2d1e1844182825a6c1acb6691a4",
      "f2cd9d42452f44c5b67e5ae937962932",
      "c0181d884a3a4091ba22bc4c9162c908",
      "477e0f197bba42edbcc24d91f28d4683",
      "979ff7f55db440ffb1e5795d61801d20",
      "362c06130b6b4fe38338097599533ba5",
      "748c0de8575b4700bbe6930903a8ea92",
      "2f0ac55c65c64dd68c905e9706a49806",
      "dd54ab1610324eff87547344516db461",
      "d6ccd8bf15da4a609f062fbe2e623580",
      "018e91811c694f508f4c883fa60c58d8",
      "443f550388a84c79a4506fed71d403bf",
      "c4f2118eb7534dbd830daf0030a9bd04",
      "fae83375819e407d9b1e1b5992190eb9",
      "74c3dfe9da1b43699b9ae4dddf647b3b",
      "a94e4010fa384a6ebd3cdfa9e597d610",
      "c10cde949e1c412f88c597b041658764",
      "5140d30e8023486e8a8f50b47574ca35",
      "b04e27233ebe4f95ba876e1eb4c6f29f",
      "d6eb0f0311474ef88b99a0e8f74ac730",
      "a7dd464f913e4a53866ea91dec7b6506",
      "57c264f6fbd34b0db1e20b16a9cebd5c",
      "78fc4520d9724d6686f20f5ce8110558",
      "2e2db27b5b774aab9ca61e9307b1a296",
      "8f02b41b0e5142799fde54f150746528",
      "39cda82474904b95ac221193729a468d",
      "f06b082ab63442eeba4738436ddddaf7",
      "17c20c7b269a4e1ab4e5137873d5abba",
      "d1c533387ef84c2d854f535dcba92351",
      "ac7f57e41a2440d0961f7195ed7b4e9b",
      "5a7955ae076443f0b92475612fc2b02a",
      "01107368b7ba43cd91d59f9e7dd44012",
      "9286783931f84f7da202ce91a8c3e4bd",
      "dc41eb67283f4380997748c00b2fb753",
      "753ed610e13d4f2d875472d123a23725",
      "c74f6b7cb40248339755b2d674a8bec9",
      "3ff90f38871444098d1df83f61ca9c96",
      "e518c3db70ef4af3ab36d0cb148665b0",
      "bc17be6b65a64369aa78955a3a04965c",
      "a33846e8d3dc4cf6980dbfe4c5089483",
      "e4eede8f34da42999c478e36cb79f76f",
      "abdc2c3a606c4ebe8cf17996649621aa",
      "b6d57b3ac68d425b8c56e111a4f47163",
      "28a98ebc45dc4923ad1a8af098359e98",
      "f3abe965b5774f658e99d3b58297be90",
      "73ddadacad2b4eaf8eda02ab74c3f6e5",
      "d99698ba525e4b5e9c9e1edf49aa06ef",
      "79945ceea85d4dfda19c334c2f0321cb",
      "a61cc748cfcd45d6b712da4a9638bad3",
      "79bb50a06a154f7b8179db6f7e2a0026",
      "f430fa478c3c4c3ead081dfc297ca585",
      "648434b48509448c984599cc83763887",
      "847b9f7066cc41b6a63f104061fd4379",
      "2899be7f538a4a3c937dac5e42fe9910",
      "c9581c229bdc46dbbdc91d46c95ab1b3",
      "80e7bc1af36d4dce816cbf61e1abf50a",
      "42383ef62702447197114622797e5b10",
      "c0f2271226a04453b167390ecc97bdf4"
     ]
    },
    "id": "b-1UGAg7WAHk",
    "outputId": "4d580c21-6293-41eb-f924-756f78b023ef"
   },
   "source": [
    "from transformers import AutoTokenizer, AutoModelForSequenceClassification\n",
    "\n",
    "# 모델과 토크나이저를 로드합니다.\n",
    "model_id = \"bert-base-cased\"\n",
    "model = AutoModelForSequenceClassification.from_pretrained(model_id, num_labels=2)\n",
    "tokenizer = AutoTokenizer.from_pretrained(model_id)"
   ],
   "outputs": [],
   "execution_count": null
  },
  {
   "cell_type": "markdown",
   "metadata": {
    "id": "r48vDo8fa33D"
   },
   "source": [
    "데이터를 토큰으로 나눕니다."
   ]
  },
  {
   "cell_type": "code",
   "metadata": {
    "colab": {
     "base_uri": "https://localhost:8080/",
     "height": 81,
     "referenced_widgets": [
      "67fb77b8e7c4424192510c15a3cbe4bd",
      "ec7e63e4c7b84ec0a5541be8a172e710",
      "f8d37c7da1114fd9b63229e571146012",
      "f9ce1f5eaad0488ab435ea1c035f586f",
      "25df085d00ad4d47ba1667e81ad0d0a9",
      "5bf1a718bba744e1aff0804541692ccb",
      "69ebba351b484a4c8ab2e4cf9d9ab522",
      "097eb084175e4885bd067bd381d1f1bc",
      "6da2830120a045f0aaa46c56e47ecb23",
      "18d9ff8df4af4bbe996bf894eeca6d6d",
      "ce66a184acdd4aaaa712c59874cb3a03",
      "7d781153933d41b39fe459bc4af674d3",
      "0857d054b3184adb8545593c6b274a93",
      "f5c9b9e359ef4ad5b51c72578db81ca4",
      "e6d6ea62dacf4a21a558af95868f8a6e",
      "349d77d541dc4fd48861ce4645843f67",
      "60eaa3938a76436fa11815d825777a18",
      "4984dc42689a4d61bbfed200ef9db10b",
      "46ee862058f143b0afdd03ff371667b9",
      "173fc8f29dbb455f829871ad095f645a",
      "3933c80fbf0b4a01897583aff7e559b0",
      "cefea5e06f7a402faa830a54cee8d4c0"
     ]
    },
    "id": "5ySNm-a3WCFI",
    "outputId": "ec5b756d-fc20-49a0-bda2-bcfe0405f801"
   },
   "source": [
    "def preprocess_function(examples):\n",
    "   \"\"\"입력 데이터를 토큰으로 나눕니다\"\"\"\n",
    "   return tokenizer(examples[\"text\"], truncation=True)\n",
    "\n",
    "# 훈련 데이터와 테스트 데이터를 토큰화합니다.\n",
    "tokenized_train = train_data.map(preprocess_function, batched=True)\n",
    "tokenized_test = test_data.map(preprocess_function, batched=True)"
   ],
   "outputs": [],
   "execution_count": null
  },
  {
   "cell_type": "code",
   "metadata": {
    "id": "NG1WwM15PrRT"
   },
   "source": [
    "from transformers import DataCollatorWithPadding\n",
    "\n",
    "# 배치에서 가장 긴 시퀀스에 맞춰 패딩합니다.\n",
    "data_collator = DataCollatorWithPadding(tokenizer=tokenizer)"
   ],
   "outputs": [],
   "execution_count": null
  },
  {
   "cell_type": "markdown",
   "metadata": {
    "id": "QJ1NM1gjbMD7"
   },
   "source": [
    "측정 지표를 정의합니다."
   ]
  },
  {
   "cell_type": "code",
   "metadata": {
    "id": "Y724gUYyWIvq"
   },
   "source": [
    "import numpy as np\n",
    "import evaluate\n",
    "\n",
    "\n",
    "def compute_metrics(eval_pred):\n",
    "    \"\"\"F1 점수를 계산합니다\"\"\"\n",
    "    logits, labels = eval_pred\n",
    "    predictions = np.argmax(logits, axis=-1)\n",
    "\n",
    "    load_f1 = evaluate.load(\"f1\")\n",
    "    f1 = load_f1.compute(predictions=predictions, references=labels)[\"f1\"]\n",
    "    return {\"f1\": f1}"
   ],
   "outputs": [],
   "execution_count": null
  },
  {
   "cell_type": "markdown",
   "metadata": {
    "id": "AAm-sAl9bOPC"
   },
   "source": [
    "모델을 훈련합니다."
   ]
  },
  {
   "cell_type": "code",
   "metadata": {
    "id": "Dho6VcG9WK5u"
   },
   "source": [
    "from transformers import TrainingArguments, Trainer\n",
    "\n",
    "# 훈련 매개변수\n",
    "training_args = TrainingArguments(\n",
    "   \"model\",\n",
    "   learning_rate=2e-5,\n",
    "   per_device_train_batch_size=16,\n",
    "   per_device_eval_batch_size=16,\n",
    "   num_train_epochs=1,\n",
    "   weight_decay=0.01,\n",
    "   save_strategy=\"epoch\",\n",
    "   report_to=\"none\"\n",
    ")\n",
    "\n",
    "# 훈련 과정을 수행할 Trainer 객체\n",
    "trainer = Trainer(\n",
    "   model=model,\n",
    "   args=training_args,\n",
    "   train_dataset=tokenized_train,\n",
    "   eval_dataset=tokenized_test,\n",
    "   processing_class=tokenizer,\n",
    "   data_collator=data_collator,\n",
    "   compute_metrics=compute_metrics,\n",
    ")"
   ],
   "outputs": [],
   "execution_count": null
  },
  {
   "cell_type": "code",
   "metadata": {
    "colab": {
     "base_uri": "https://localhost:8080/",
     "height": 161
    },
    "id": "vOzl0WnSbVnY",
    "outputId": "40f134c0-34d9-4c90-a1d3-9c85c86a977e"
   },
   "source": [
    "trainer.train()"
   ],
   "outputs": [],
   "execution_count": null
  },
  {
   "cell_type": "markdown",
   "metadata": {
    "id": "xkBUVlUYbUnn"
   },
   "source": [
    "모델을 평가합니다."
   ]
  },
  {
   "cell_type": "code",
   "metadata": {
    "colab": {
     "base_uri": "https://localhost:8080/",
     "height": 179,
     "referenced_widgets": [
      "b79520258f06433bb9c83e5fdb16ca4e",
      "2a27fb4edc60472e8af8657fb5953dd3",
      "81b50827286e4099b3b7c73a98611361",
      "9cca52193dc74a06bead415a6750ba34",
      "2b8a008c1d2440909c1e3911922ca6e2",
      "c7b0313029144ee5bdec55389a624aac",
      "3ca6c7f7638c4cd381bdea780b93259c",
      "362adaa330724189aaa91652379c7c84",
      "cf851ebc37264fd896939939c5b8ca4d",
      "90b92e0b97df4f6ebc55ce415c639053",
      "80cd5c650bd149d78329d88c8697a772"
     ]
    },
    "id": "wCI9uYDObWU8",
    "outputId": "01039860-f22d-4e09-d8ff-ddb97a4fb86f"
   },
   "source": [
    "trainer.evaluate()"
   ],
   "outputs": [],
   "execution_count": null
  },
  {
   "cell_type": "markdown",
   "metadata": {
    "id": "o5gefwxOBllA"
   },
   "source": [
    "### 층 동결"
   ]
  },
  {
   "cell_type": "code",
   "metadata": {
    "colab": {
     "base_uri": "https://localhost:8080/"
    },
    "id": "t0ZOuoe7Dj3c",
    "outputId": "2ce9b9a5-2b8b-4bd2-963b-cc450629a4a4"
   },
   "source": [
    "# 모델과 토크나이저를 로드합니다.\n",
    "model = AutoModelForSequenceClassification.from_pretrained(model_id, num_labels=2)\n",
    "tokenizer = AutoTokenizer.from_pretrained(model_id)"
   ],
   "outputs": [],
   "execution_count": null
  },
  {
   "cell_type": "code",
   "metadata": {
    "colab": {
     "base_uri": "https://localhost:8080/"
    },
    "id": "iI8vf_mnBniu",
    "outputId": "43ad511b-a96a-4108-bafc-e30b3e73fcc8"
   },
   "source": [
    "# 층 이름을 출력합니다.\n",
    "for name, param in model.named_parameters():\n",
    "    print(name)"
   ],
   "outputs": [],
   "execution_count": null
  },
  {
   "cell_type": "code",
   "metadata": {
    "id": "FnpGOry_Bm36"
   },
   "source": [
    "for name, param in model.named_parameters():\n",
    "\n",
    "     # 분류 헤드는 동결하지 않습니다.\n",
    "     if name.startswith(\"classifier\"):\n",
    "        param.requires_grad = True\n",
    "\n",
    "     # 그외 모든 층을 동결합니다.\n",
    "     else:\n",
    "        param.requires_grad = False"
   ],
   "outputs": [],
   "execution_count": null
  },
  {
   "cell_type": "code",
   "metadata": {
    "colab": {
     "base_uri": "https://localhost:8080/"
    },
    "id": "vf_wYzpMB4uX",
    "outputId": "2db69291-3118-45a9-cd7e-bae727429452"
   },
   "source": [
    "# 모델이 올바르게 업데이트되었는지 확인합니다.\n",
    "for index, (name, param) in enumerate(model.named_parameters()):\n",
    "     print(f\"{index}: {name} ----- {param.requires_grad}\")"
   ],
   "outputs": [],
   "execution_count": null
  },
  {
   "cell_type": "code",
   "metadata": {
    "colab": {
     "base_uri": "https://localhost:8080/",
     "height": 161
    },
    "id": "rVi36FJSG4ue",
    "outputId": "6c591172-4d2b-4877-9d8c-0056154c079c"
   },
   "source": [
    "from transformers import TrainingArguments, Trainer\n",
    "\n",
    "# 훈련 과정을 실행할 Trainer 객체를 만듭니다.\n",
    "trainer = Trainer(\n",
    "   model=model,\n",
    "   args=training_args,\n",
    "   train_dataset=tokenized_train,\n",
    "   eval_dataset=tokenized_test,\n",
    "   processing_class=tokenizer,\n",
    "   data_collator=data_collator,\n",
    "   compute_metrics=compute_metrics,\n",
    ")\n",
    "trainer.train()"
   ],
   "outputs": [],
   "execution_count": null
  },
  {
   "cell_type": "code",
   "metadata": {
    "colab": {
     "base_uri": "https://localhost:8080/",
     "height": 147
    },
    "id": "eCPpixB1HCsI",
    "outputId": "9c0610d4-52f5-4f2b-b081-65032b8eceef"
   },
   "source": [
    "trainer.evaluate()"
   ],
   "outputs": [],
   "execution_count": null
  },
  {
   "cell_type": "markdown",
   "metadata": {
    "id": "Uw729mLhIQL6"
   },
   "source": [
    "### 10개의 인코더 블록 동결하기"
   ]
  },
  {
   "cell_type": "code",
   "metadata": {
    "colab": {
     "base_uri": "https://localhost:8080/",
     "height": 293
    },
    "id": "QyleqOHICBjj",
    "outputId": "8218b0cd-cc8d-4fea-922d-cc502c0558d3"
   },
   "source": [
    "# 모델을 로드합니다.\n",
    "model_id = \"bert-base-cased\"\n",
    "model = AutoModelForSequenceClassification.from_pretrained(model_id, num_labels=2)\n",
    "tokenizer = AutoTokenizer.from_pretrained(model_id)\n",
    "\n",
    "# 11번째 인코더 블록은 인덱스 165에서 시작합니다.\n",
    "# 이 블록 이전의 모든 층을 동결합니다.\n",
    "for index, (name, param) in enumerate(model.named_parameters()):\n",
    "    if index < 165:\n",
    "        param.requires_grad = False\n",
    "\n",
    "# 훈련 과정을 실행할 Trainer 객체를 만듭니다.\n",
    "trainer = Trainer(\n",
    "   model=model,\n",
    "   args=training_args,\n",
    "   train_dataset=tokenized_train,\n",
    "   eval_dataset=tokenized_test,\n",
    "   processing_class=tokenizer,\n",
    "   data_collator=data_collator,\n",
    "   compute_metrics=compute_metrics,\n",
    ")\n",
    "trainer.train()\n",
    "trainer.evaluate()"
   ],
   "outputs": [],
   "execution_count": null
  },
  {
   "cell_type": "markdown",
   "metadata": {
    "id": "HJRMWsLdA913"
   },
   "source": [
    "### [보너스] 인코더 블록 동결의 효과"
   ]
  },
  {
   "cell_type": "code",
   "metadata": {
    "colab": {
     "base_uri": "https://localhost:8080/",
     "height": 1000
    },
    "id": "ADvKJjNaFAot",
    "outputId": "992e580a-2648-4528-c327-e7697c343413"
   },
   "source": [
    "scores = []\n",
    "for index in range(12):\n",
    "    # 모델을 다시 로드합니다.\n",
    "    model = AutoModelForSequenceClassification.from_pretrained(\"bert-base-cased\", num_labels=2)\n",
    "    tokenizer = AutoTokenizer.from_pretrained(\"bert-base-cased\")\n",
    "\n",
    "    # 인코더 블록 0-index를 동결합니다.\n",
    "    for name, param in model.named_parameters():\n",
    "        if \"layer\" in name:\n",
    "            layer_nr = int(name.split(\"layer\")[1].split(\".\")[1])\n",
    "            if layer_nr <= index:\n",
    "                param.requires_grad = False\n",
    "        else:\n",
    "            param.requires_grad = True\n",
    "\n",
    "    # 모델 훈련\n",
    "    trainer = Trainer(\n",
    "      model=model,\n",
    "      args=training_args,\n",
    "      train_dataset=tokenized_train,\n",
    "      eval_dataset=tokenized_test,\n",
    "      processing_class=tokenizer,\n",
    "      data_collator=data_collator,\n",
    "      compute_metrics=compute_metrics,\n",
    "    )\n",
    "    trainer.train()\n",
    "\n",
    "    # 평가\n",
    "    score = trainer.evaluate()[\"eval_f1\"]\n",
    "    scores.append(score)"
   ],
   "outputs": [],
   "execution_count": null
  },
  {
   "cell_type": "code",
   "metadata": {
    "colab": {
     "base_uri": "https://localhost:8080/"
    },
    "id": "dWYlHFNdLQtk",
    "outputId": "e7364b50-9e64-48ee-caf4-e8ebd359e9c8"
   },
   "source": [
    "scores"
   ],
   "outputs": [],
   "execution_count": null
  },
  {
   "cell_type": "code",
   "metadata": {
    "colab": {
     "base_uri": "https://localhost:8080/",
     "height": 410
    },
    "id": "bf3PIvKhOBJ-",
    "outputId": "19c16bb7-4781-4173-ed0a-4eb57ad8556e"
   },
   "source": [
    "import matplotlib.pyplot as plt\n",
    "import numpy as np\n",
    "\n",
    "# 피겨 객체를 만듭니다.\n",
    "plt.figure(figsize=(8,4))\n",
    "\n",
    "# 데이터를 준비합니다.\n",
    "x = [f\"0-{index}\" for index in range(12)]\n",
    "x[0] = \"None\"\n",
    "x[-1] = \"All\"\n",
    "y = scores[::-1]\n",
    "\n",
    "# 그래프 스타일 설정\n",
    "plt.grid(color='#ECEFF1')\n",
    "plt.axvline(x=4, color=\"#EC407A\", linestyle=\"--\")\n",
    "plt.title(\"Effect of Frozen Encoder Blocks on Training Performance\")\n",
    "plt.ylabel(\"F1-score\")\n",
    "plt.xlabel(\"Trainable encoder blocks\")\n",
    "\n",
    "# 그래프를 그립니다.\n",
    "plt.plot(x, y, color=\"black\")\n",
    "\n",
    "# 그래프 주석 추가\n",
    "plt.annotate(\n",
    "    'Performance stabilizing',\n",
    "    xy=(4, y[4]),\n",
    "    xytext=(4.5, y[4]-.05),\n",
    "    arrowprops=dict(\n",
    "        arrowstyle=\"-|>\",\n",
    "        connectionstyle=\"arc3\",\n",
    "        color=\"#00ACC1\")\n",
    ")\n",
    "plt.savefig(\"multiple_frozen_blocks.png\", dpi=300, bbox_inches='tight')"
   ],
   "outputs": [],
   "execution_count": null
  },
  {
   "cell_type": "markdown",
   "metadata": {
    "id": "sf785lzMjwiy"
   },
   "source": [
    "## 퓨-샷 분류"
   ]
  },
  {
   "cell_type": "code",
   "metadata": {
    "id": "8ybeQ3j6kOk4"
   },
   "source": [
    "from setfit import sample_dataset\n",
    "\n",
    "# 퓨-샷 설정을 흉내내기 위해 클래스마다 16개의 샘플을 선택합니다.\n",
    "sampled_train_data = sample_dataset(tomatoes[\"train\"], num_samples=16)"
   ],
   "outputs": [],
   "execution_count": null
  },
  {
   "cell_type": "code",
   "metadata": {
    "colab": {
     "base_uri": "https://localhost:8080/",
     "height": 407,
     "referenced_widgets": [
      "ab5b39b6fec24feaa0117b24a6ce56f1",
      "78cc4d67cd3a428b9cc75dda8e7f2615",
      "965ff589b3864e96a3df39166281cb62",
      "83f1a8101b144bddbdf7ef85e9dbbf3f",
      "92b3005eefb740788eaf4761d1fdc542",
      "6b4da7e786684dce9415ea2f2d0c4bc2",
      "764b69c5906948f7808c247267cb7b8b",
      "3792d3b8dee14d258bca804cbdaca31c",
      "3250de50091941a2916d4406bf0ef9f8",
      "e8b5c0997ab84759b4b30fd092b9efc0",
      "fe5e44096bf44af2acefbcb734c078a0",
      "560d8774dc04498bb2816a3bbb57f0c5",
      "f8f03e1a3195441db927c548178ff59f",
      "c6b6ea8eb2fb4ce592647803a4f7ed39",
      "f04e51569e6f4632b66b026630ce24a4",
      "c94522d860e348189043205847e730b9",
      "61c31b1b87c14975bae5bcee5bc4e358",
      "dece3a8818144773a69fe9bdcd9bccb0",
      "80acbb5df4794539b7a0ff6b150435dd",
      "2ea9c7c0b18b4fc29197ae7ada1d2341",
      "e659f89d31804d65b82581d366d0e125",
      "b26d6ff6a6784ca4a7c7b598d5d9291c",
      "1230c6d008ef4eaf944e99658f5546ac",
      "a8e1085fbbff498087f85e89dce265c9",
      "d5942b9ba09541d2abb6e5980e7236a3",
      "06c50e4ae1a04bd6aeee65438150263c",
      "6da6265a0f96484ebc5b6d7c2af09fc3",
      "302134fc2ac344468d9853a0de2fe755",
      "d1e06bc4b5944ecaabae9adc4fa6e08d",
      "f9486db4a61744f7ad2b85c5351f8d53",
      "4443afaa03244beeb77b778cd1c841b5",
      "167d4682f6c447d480098e8586d4d578",
      "f0d629a09f61453284d77dbb0d02ebee",
      "af6515e20f4b4b9c9671657865462471",
      "81ffb9182ecb4e9894672ca83f5e04d1",
      "75bdb513b8ca40b8b25028d299c5c0dd",
      "0a099fa339e14f2cb7a3c2c52a67b596",
      "32ca22e83bee4b85b5a316ccba52b2f0",
      "a7957a8aa11c43b9877aeb9cc8af7255",
      "5b7b4bc3093045f497a512e442f819fc",
      "60e8815b49e4499083cb687c6e4e9bc1",
      "c02cd1ee60ae43ffa6363f731dc926fb",
      "a65780e3c3da4480a5326342dd745580",
      "9a26c8203a634d36bd835073777a2ae8",
      "ca20541d2db94b46a39392b94f254509",
      "5a8ca5257fc6418cbffcc69965405ac0",
      "a90bb2b8d259462285a8d1d4c379187b",
      "7387db1c1a8d4afd9149ad71f312de17",
      "26906cf7067f42ecaa80af3e38948b16",
      "8d2f0a41358a4c4eb8898ca7774d6fae",
      "739a0c2f4d07427f8482e729ba0d87e8",
      "42697fccabfd4b748004ee7b1fa1c9e6",
      "4467a3014fe8429fb91c3b4f37030371",
      "2a681e88c06d4b94b135d6d1eec32fc4",
      "6e1e9fe1ead1416c835f4d94eab7f98e",
      "42e1238c7303424490850fb7c999bdb1",
      "876bd337a5074a5a979bfa49cdc8219e",
      "a79d8057c80347a3a6ab975b9eb7ac6c",
      "9039665cc5794cedb3d7f7a5a29c1bc4",
      "baa0508fc82b438cbc26a559cae75bf3",
      "614a9b61ad4e41fabd91f12de1e052ae",
      "7450e17f26e34b549d51d0823a3227d4",
      "93e45bc0455e4168a95a35d984c78966",
      "41b52bdec13a4a37a550e3f78ebaf4af",
      "93f98e17e58d4a818368b4868aa62d2a",
      "626f23ca93e448679920d05bda97b588",
      "378680abcf3e4d7a96c5933a2714dd20",
      "eaa81d2db8624b9f84f1ed08beeec9d9",
      "da6533490d584d5e98ec8d62d614853a",
      "9648ed6e72fe49b8bd45efbc9ee71ef7",
      "12efdd83ad4e4249a1d65541ec2ba21c",
      "fdb0393cbf924453b8c66a159fffc3e0",
      "be0705bd54534433abf9830103aec206",
      "b9cb599afc704ea9a421be7006fb5a46",
      "783d1509e47f45cdab2d44bd5cefcf8c",
      "508d9f1cda4c47bdae50b96f11ab8488",
      "478663b1e1c54076a01faa57dd957409",
      "eb6c7085f65c45aea51d9a13e5fec5f0",
      "22f780c6af3e46ee95b3afe42e7b0a62",
      "792300c3e9894138b77da1ab26eef6c5",
      "59baabd4f5b747c596cd41b95a8889df",
      "b51526d7f181426ab8cc309e2c41f72c",
      "52a3f8cb94d84c419cb2a8e6449987a1",
      "aabf7a0fbdc3413e87b8b01e8249f136",
      "8e0eb81160404de3b148e25393b5a123",
      "4888a8e99b92404c934a7a9d5d1bb5f2",
      "5b3d6d5d720542ee9afc3168608876b2",
      "f27a6ba8b51d4f829964ed221931d089",
      "38b7022743764b3d96f6ca0f7d6755ee",
      "c47f03bcff9f40868931f4a97520ce04",
      "ac09b956ef734ebb86c19f5a49b2c728",
      "802e6d0da0994d778c328ff108cf6116",
      "6f71df5c0ef4423fbeb1ff47d60cf058",
      "88f8e75692b74779b95dbe3f579351ef",
      "83583a9f0be440658f25f06bcebd7237",
      "c8b56402a92a42a69b954ace69eff608",
      "174c39afaac14c6e83a5e75831e56c12",
      "60d42aa2e78c4ac9a3be00a3549f2237",
      "2311a1a2422f4c8a8cd5df858c6dfcd9",
      "2fcd950653e04f4ea2870b7be723b0b1",
      "fac02affb16048bd95a4e85942bf8e83",
      "4beee50c51df4a8f8f8ce5b49d40a3a8",
      "2671c3c1177347918a61fe7f4cf25b0f",
      "df197eb633434b409ba33a5c9f5c969b",
      "dbb4eb1aa1f74a1e9e0af9292aa5fe6d",
      "9d8761e7dc4b4c2eb4df77c7f2e9e7bf",
      "b8b3e502300547a6a2094585c24e98ef",
      "74432ed1c58c4be293b656fb247f6819",
      "b7633b4532ad42e7bb9b6ce06d3a128d",
      "73c22fb7f7ec4c91b016c4dcb2f60474",
      "201b38a728b94f13b6656af9c502dc84",
      "c2535c8ca91e431ca067321946f631d6",
      "05f56c214a4a40db8c20aeb1c5eccab4",
      "2075badd37414c1ea9948d8a29405e81",
      "87477f2c025f49509ee777087f49171a",
      "4a0b4b6e46a542d182836b1ab31d5bda",
      "7feb8dfa5a1346aeb96f48523456d230",
      "bb526ed920de4b15907ac4e4917968d3",
      "b4a2763765c745bfa50ad87b4d5b9887",
      "4cc221fe7ed048d79ba3e033f77b4eb6",
      "f73c168f2abc404fa12a53441ab28e95"
     ]
    },
    "id": "1Y55TDrmSqHm",
    "outputId": "dcf37ae9-7ebe-4c35-8340-50f9d9a171c3"
   },
   "source": [
    "from setfit import SetFitModel\n",
    "\n",
    "# 사전 훈련된 SentenceTransformer 모델을 로드합니다.\n",
    "model = SetFitModel.from_pretrained(\"sentence-transformers/all-mpnet-base-v2\")"
   ],
   "outputs": [],
   "execution_count": null
  },
  {
   "cell_type": "code",
   "metadata": {
    "colab": {
     "base_uri": "https://localhost:8080/",
     "height": 49,
     "referenced_widgets": [
      "da26059e7bf94d55b26d01ec09224467",
      "37dbeb1557ba4f04ba472a8f327052c1",
      "087e01c0398c40fe9e3e8d9147811ac4",
      "6d022f339a1b4d0fad28a815b2902e17",
      "3a0ca250ee49472283fc35b15eb637c7",
      "d601f0e2c27f4b468d98f5ead4848e4e",
      "7d3534ed956f44a184d284bf3f7b4dcf",
      "36decdb75f464035a4306bc88fc7750e",
      "50159eb036ef4b1b91c47a9fd3622400",
      "123cda9086ff450aa24226823f0c439e",
      "e0366848a36e4d20827cdc0714f91a01"
     ]
    },
    "id": "zZ10SpAXdNvC",
    "outputId": "392bcbd4-4a84-4a7e-c7db-ac41a5222597"
   },
   "source": [
    "from setfit import TrainingArguments as SetFitTrainingArguments\n",
    "from setfit import Trainer as SetFitTrainer\n",
    "\n",
    "# 훈련 매개변수를 정의합니다.\n",
    "args = SetFitTrainingArguments(\n",
    "    num_epochs=3,      # 대조 학습을 수행할 에포크 횟수\n",
    "    num_iterations=20  # 생성할 텍스트 쌍 개수\n",
    ")\n",
    "args.eval_strategy = args.evaluation_strategy\n",
    "\n",
    "# Trainer 객체를 만듭니다.\n",
    "trainer = SetFitTrainer(\n",
    "    model=model,\n",
    "    args=args,\n",
    "    train_dataset=sampled_train_data,\n",
    "    eval_dataset=test_data,\n",
    "    metric=\"f1\"\n",
    ")"
   ],
   "outputs": [],
   "execution_count": null
  },
  {
   "cell_type": "code",
   "metadata": {
    "colab": {
     "base_uri": "https://localhost:8080/",
     "height": 474
    },
    "id": "WoVvXBiV6Lmu",
    "outputId": "90ae80e7-8a8e-479e-c08e-36f121fffe12"
   },
   "source": [
    "# 훈련 루프\n",
    "trainer.train()"
   ],
   "outputs": [],
   "execution_count": null
  },
  {
   "cell_type": "code",
   "metadata": {
    "colab": {
     "base_uri": "https://localhost:8080/"
    },
    "id": "PyRxiY32R3Jd",
    "outputId": "2abd139f-7dbc-4134-824f-edd38672bf37"
   },
   "source": [
    "# 테스트 데이터에서 모델을 평가합니다.\n",
    "trainer.evaluate()"
   ],
   "outputs": [],
   "execution_count": null
  },
  {
   "cell_type": "code",
   "metadata": {
    "colab": {
     "base_uri": "https://localhost:8080/",
     "height": 80
    },
    "id": "-aKIHJpCQdAm",
    "outputId": "b2a959dd-e6d2-4a42-f034-c35e570f330b"
   },
   "source": [
    "model.model_head"
   ],
   "outputs": [],
   "execution_count": null
  },
  {
   "cell_type": "markdown",
   "metadata": {
    "id": "L7NbUeSn-QSe"
   },
   "source": [
    "## 마스크드 언어 모델링"
   ]
  },
  {
   "cell_type": "code",
   "metadata": {
    "colab": {
     "base_uri": "https://localhost:8080/"
    },
    "id": "Z35PD47AXXnv",
    "outputId": "b9fb3784-cb96-409a-ff15-9f60c68f9153"
   },
   "source": [
    "from transformers import AutoTokenizer, AutoModelForMaskedLM\n",
    "\n",
    "# 마스크드 언어 모델링을 위해 모델을 로드합니다.\n",
    "model = AutoModelForMaskedLM.from_pretrained(\"bert-base-cased\")\n",
    "tokenizer = AutoTokenizer.from_pretrained(\"bert-base-cased\")"
   ],
   "outputs": [],
   "execution_count": null
  },
  {
   "cell_type": "code",
   "metadata": {
    "colab": {
     "base_uri": "https://localhost:8080/",
     "height": 81,
     "referenced_widgets": [
      "cf6e9f19bda8486083c64272cee8e67d",
      "fa6d3bb993f54b7e8bebedadf7f2f15f",
      "35579bec52a74f198fb7a11307c179a5",
      "ec346923d34749d48005cfc05a0d2310",
      "63f2d20028914645b1cd3f4d045851d0",
      "f8aedcf969e54d6182e6008230c27c58",
      "8fad8e23e6434b0ea7b22cf9b95bc300",
      "251fcfc239d1425cb78018a462e4c781",
      "25b6be374a054d239a47cbd2c6fc0920",
      "51e5281162fd478f9b05e00a62e82c25",
      "518b601659da4dd4a439d05ea790783c",
      "6b29e785bb8f4b309f6f64790bffc8c5",
      "0fbaedf440fe4cdf96204baaeb273711",
      "05a35f1b25ca4a5da90eeb4077b4c44d",
      "ab71ae8b62714b44bf21105fb70e3a99",
      "4133a213c08a4e17aea81436023158ba",
      "c596fd2923fa4006b7785b8c22c9c192",
      "76085ceca3794fee9a680c73b121f1cf",
      "b2ca668e173c49248716e02a8e11ea01",
      "1483b515cf4e48a5ac9fdf5a82bd5767",
      "d36bba5d27a7441887dbc4ddac571fd9",
      "92c8e8d6f56f4c54b519764f420edfc3"
     ]
    },
    "id": "zgLardIvEFTG",
    "outputId": "b6d24fe7-2cac-406e-b3cd-218fb82d1597"
   },
   "source": [
    "def preprocess_function(examples):\n",
    "   return tokenizer(examples[\"text\"], truncation=True)\n",
    "\n",
    "# 데이터를 토큰화합니다.\n",
    "tokenized_train = train_data.map(preprocess_function, batched=True)\n",
    "tokenized_train = tokenized_train.remove_columns(\"label\")\n",
    "tokenized_test = test_data.map(preprocess_function, batched=True)\n",
    "tokenized_test = tokenized_test.remove_columns(\"label\")"
   ],
   "outputs": [],
   "execution_count": null
  },
  {
   "cell_type": "code",
   "metadata": {
    "id": "x7Yfg_2TECs_"
   },
   "source": [
    "from transformers import DataCollatorForLanguageModeling\n",
    "\n",
    "# 토큰 마스킹\n",
    "data_collator = DataCollatorForLanguageModeling(\n",
    "    tokenizer=tokenizer,\n",
    "    mlm=True,\n",
    "    mlm_probability=0.15\n",
    ")"
   ],
   "outputs": [],
   "execution_count": null
  },
  {
   "cell_type": "code",
   "metadata": {
    "id": "wqnA-ROy7ZRG"
   },
   "source": [
    "# from transformers import DataCollatorForWholeWordMask\n",
    "\n",
    "# # 전체 단어 마스킹\n",
    "# data_collator = DataCollatorForWholeWordMask(\n",
    "#     tokenizer=tokenizer,\n",
    "#     mlm=True,\n",
    "#     mlm_probability=0.15\n",
    "# )"
   ],
   "outputs": [],
   "execution_count": null
  },
  {
   "cell_type": "code",
   "metadata": {
    "id": "OduApRY03iOE"
   },
   "source": [
    "# 훈련 매개변수\n",
    "training_args = TrainingArguments(\n",
    "   \"model\",\n",
    "   learning_rate=2e-5,\n",
    "   per_device_train_batch_size=16,\n",
    "   per_device_eval_batch_size=16,\n",
    "   num_train_epochs=10,\n",
    "   weight_decay=0.01,\n",
    "   save_strategy=\"epoch\",\n",
    "   report_to=\"none\"\n",
    ")\n",
    "\n",
    "# Trainer 객체 생성\n",
    "trainer = Trainer(\n",
    "    model=model,\n",
    "    args=training_args,\n",
    "    train_dataset=tokenized_train,\n",
    "    eval_dataset=tokenized_test,\n",
    "    processing_class=tokenizer,\n",
    "    data_collator=data_collator\n",
    ")"
   ],
   "outputs": [],
   "execution_count": null
  },
  {
   "cell_type": "code",
   "metadata": {
    "colab": {
     "base_uri": "https://localhost:8080/",
     "height": 389
    },
    "id": "v-cRB3QmEiXl",
    "outputId": "e21d7db3-1fe5-4bcf-9d0b-fb85c35f5bea"
   },
   "source": [
    "# 사전 훈련된 토크나이저를 저장합니다.\n",
    "tokenizer.save_pretrained(\"mlm\")\n",
    "\n",
    "# 모델을 훈련합니다.\n",
    "trainer.train()\n",
    "\n",
    "# 업데이트된 모델을 저장합니다.\n",
    "model.save_pretrained(\"mlm\")"
   ],
   "outputs": [],
   "execution_count": null
  },
  {
   "cell_type": "code",
   "metadata": {
    "colab": {
     "base_uri": "https://localhost:8080/"
    },
    "id": "HfxN1p8TOg2v",
    "outputId": "ca3937bd-b82d-49ac-c46e-759faec6af4e"
   },
   "source": [
    "from transformers import pipeline\n",
    "\n",
    "# 모델을 로드하고 예측을 만듭니다.\n",
    "mask_filler = pipeline(\"fill-mask\", model=\"bert-base-cased\")\n",
    "preds = mask_filler(\"What a horrible [MASK]!\")\n",
    "\n",
    "# 결과를 출력합니다.\n",
    "for pred in preds:\n",
    "    print(f\">>> {pred['sequence']}\")"
   ],
   "outputs": [],
   "execution_count": null
  },
  {
   "cell_type": "code",
   "metadata": {
    "colab": {
     "base_uri": "https://localhost:8080/"
    },
    "id": "ogk1hJ4zOlAU",
    "outputId": "38df7cb6-cb1c-4e49-ea08-0d45b9efa332"
   },
   "source": [
    "# 모델을 로드하고 예측을 만듭니다.\n",
    "mask_filler = pipeline(\"fill-mask\", model=\"mlm\")\n",
    "preds = mask_filler(\"What a horrible [MASK]!\")\n",
    "\n",
    "# 결과를 출력합니다.\n",
    "for pred in preds:\n",
    "    print(f\">>> {pred['sequence']}\")"
   ],
   "outputs": [],
   "execution_count": null
  },
  {
   "cell_type": "markdown",
   "metadata": {
    "id": "1sDqoG2NyeJO"
   },
   "source": [
    "## 개체명 인식\n",
    "\n",
    "개체명 인식에 관련된 흥미로운 데이터셋:\n",
    "* tner/mit_movie_trivia\n",
    "* tner/mit_restaurant\n",
    "* wnut_17\n",
    "* conll2003"
   ]
  },
  {
   "cell_type": "code",
   "metadata": {
    "id": "KGDvXU-ZzJ3J"
   },
   "source": [
    "from transformers import AutoModelForTokenClassification, AutoTokenizer\n",
    "from transformers import DataCollatorWithPadding\n",
    "from transformers import TrainingArguments, Trainer\n",
    "import numpy as np"
   ],
   "outputs": [],
   "execution_count": null
  },
  {
   "cell_type": "code",
   "metadata": {
    "colab": {
     "base_uri": "https://localhost:8080/",
     "height": 209,
     "referenced_widgets": [
      "173a88f04d894fafa51584290e7fb323",
      "b7fe17c051f04fc19fe6500d788cb389",
      "5ece94ea685846099943784198675171",
      "e85b9762adb6439b8348ade5cbf2c2d0",
      "2b6d3e1fc89a463c8b94a09430c36ca5",
      "280754591f3a4568b5d9844821c97e24",
      "e3b3f2c17fb2426ca214952d4ade86ba",
      "f877627cafad439ab6abe8c514b7fb98",
      "31263881a0dc41b7841bde39b722ec4a",
      "1950b2f047ff49d9afc0b325ce31d6c9",
      "54e5dc20ff904d9a82acf9e30289110d",
      "1c63d2c547ed4fb396ec6675c4d38929",
      "9006e8a1a90e453399b524684b2957c0",
      "36510a409c66454fb88f5a60a2b5b5a0",
      "ea62a8cb65a949248c3c767c8c4adbc0",
      "1598660699104969b440152928c3fa36",
      "ffdf27a0bf184299a731ebd0ea74318f",
      "adf89c98ee5b4af28a78614e95a3ef3f",
      "10de2017be0642df985d75ff8a0d9470",
      "cd12ff2464e84362a103ab7d55a085be",
      "f9e2264d7a5a4bf793a0b163a8ca5dee",
      "037f4799fc534abd9236cf2f1bfb9398",
      "00cd900a49a74ec6b09944b7f3baeb5b",
      "a218f10b69fa4100a1667bd42f2d2bb5",
      "4fcb4d44fbc34f8a93f64ccf20d7924d",
      "86e7ebbf0410425aab97259ce60f730d",
      "f7d3718a8ab34149ba8b46d3a4a6f9b4",
      "573ac094190e43439078edaea8db287a",
      "12c130bd6e7b4b58859fa45c975507d3",
      "56f169e07616408fac79fb2086ce55e1",
      "2565d533690546f7a426f20f207c2a9d",
      "18f54dea17054dc7b73c0fa686e9d114",
      "cd4794cf0a2447a084eea78c2d7092a8",
      "f4dc2dbfc13044f0b49a8454de2a033f",
      "b91d4058190e4bcda71473f4f6e2a319",
      "c870ccf2831d4324ac3b99426f311a51",
      "f187339817904f8fbd797a351933a1d5",
      "cb1eafd964354e86a8386ef96aeefdf9",
      "244058c51ae34845ba6cb093333a7156",
      "cfa2a80b32804a7d95db88cfa4723392",
      "12fd1c2040b840ad89d96fa9424fd07f",
      "da5a92227da34e869b880649f06b6667",
      "fa4ca04ea6f642a786584c49a4b0e6aa",
      "8c0fd61488d540da83311638466b9b6c",
      "da47270d1e9549cfb17c976c09046d9a",
      "60ba4a5e3ae1411b882fb9638c2f0636",
      "cb97e37e8c5f40d5ae993540c5aefdf2",
      "fdcafeb8c697411fbafebb33648b95ea",
      "7ddcc4be32814f76afdc586a562e9da9",
      "140d0acd66c4437b9f7f05de0f4c65c5",
      "46158d4d6b93408b8476a090a608425a",
      "d077040a37324995bfaf9e6dd14b703f",
      "1b1e67cc39434f6c8b0127d23802efd6",
      "0647e78347664d17bbe779218b525a17",
      "7a2191ca76f34ee1be240b0d06feb27b",
      "924c00588ec049e38f1200012d39d432",
      "17c4a314f54948abac9e62f63d016d98",
      "5f657433b3ab40159bb3b72eb96cf574",
      "ada2797ab4564a779ba06e428cda9706",
      "a09ec4c80848410d82a56adfea778739",
      "34b47219e31448e4a6142d2fe39141a2",
      "3bd69b6a9aeb4f829a9dd49b644c4ceb",
      "292226e86c1f4a95a98cb266bad418ba",
      "a7e0764b7b3749afa4627294421f0394",
      "431b50b6e76d402a83b93f61a45e5d5c",
      "e1de5ba67b39496b8ccaf0516feddfd6"
     ]
    },
    "id": "YOQlMioIGY33",
    "outputId": "0425d55f-8a11-48f7-88ad-0360be1994bd"
   },
   "source": [
    "# CoNLL-2003 데이터셋\n",
    "dataset = load_dataset(\"conll2003\", trust_remote_code=True)"
   ],
   "outputs": [],
   "execution_count": null
  },
  {
   "cell_type": "code",
   "metadata": {
    "colab": {
     "base_uri": "https://localhost:8080/"
    },
    "id": "hOc5J7YgIPl8",
    "outputId": "b9d59220-c4b0-4f0c-d07a-fd7915b59be6"
   },
   "source": [
    "example = dataset[\"train\"][848]\n",
    "example"
   ],
   "outputs": [],
   "execution_count": null
  },
  {
   "cell_type": "code",
   "metadata": {
    "colab": {
     "base_uri": "https://localhost:8080/"
    },
    "id": "hEPNSdADeAWD",
    "outputId": "a5071730-007a-4f0d-f433-7dc24b620924"
   },
   "source": [
    "label2id = {\n",
    "    'O': 0, 'B-PER': 1, 'I-PER': 2, 'B-ORG': 3, 'I-ORG': 4,\n",
    "    'B-LOC': 5, 'I-LOC': 6, 'B-MISC': 7, 'I-MISC': 8\n",
    "}\n",
    "id2label = {index: label for label, index in label2id.items()}\n",
    "label2id"
   ],
   "outputs": [],
   "execution_count": null
  },
  {
   "cell_type": "code",
   "metadata": {
    "colab": {
     "base_uri": "https://localhost:8080/"
    },
    "id": "OtRCaz15AyjC",
    "outputId": "74358f0d-69c4-41bc-98e6-43b174c2f8c0"
   },
   "source": [
    "from transformers import AutoModelForTokenClassification\n",
    "\n",
    "# 토크나이저를 로드합니다.\n",
    "tokenizer = AutoTokenizer.from_pretrained(\"bert-base-cased\")\n",
    "\n",
    "# 모델을 로드합니다.\n",
    "model = AutoModelForTokenClassification.from_pretrained(\n",
    "    \"bert-base-cased\",\n",
    "    num_labels=len(id2label),\n",
    "    id2label=id2label,\n",
    "    label2id=label2id\n",
    ")"
   ],
   "outputs": [],
   "execution_count": null
  },
  {
   "cell_type": "code",
   "metadata": {
    "colab": {
     "base_uri": "https://localhost:8080/"
    },
    "id": "QOrlt03kIt_f",
    "outputId": "e7a059b9-11ed-4858-ad07-4de5303b27ef"
   },
   "source": [
    "# 개별 토큰을 부분 토큰으로 나눕니다.\n",
    "token_ids = tokenizer(example[\"tokens\"], is_split_into_words=True)[\"input_ids\"]\n",
    "sub_tokens = tokenizer.convert_ids_to_tokens(token_ids)\n",
    "sub_tokens"
   ],
   "outputs": [],
   "execution_count": null
  },
  {
   "cell_type": "code",
   "metadata": {
    "colab": {
     "base_uri": "https://localhost:8080/",
     "height": 113,
     "referenced_widgets": [
      "afb61961837f4ebeaa6385aa45b6bf7c",
      "8739663f8c654a528f63446d84c987de",
      "035e456db957483b9fbfa60c84d628de",
      "3129a1c597e24b23aa85f04558f608e2",
      "41e69068bdc14d2ca283f45b3bd33c32",
      "80ef5b98181c42fdaf4a600032772313",
      "8d644e3e1d8a4490bb18c32044afaa0c",
      "111763ae3e61430d8b6c3e74fe5510ba",
      "023cc19b738e438691db765734484061",
      "f7f1ea1adc654eb29a59435217e13e49",
      "09d119916e41484d9c86316a288fc4ff",
      "c7f0a77a1e3945d88148831ac7ca1e7e",
      "5228947240a5458f9b16854b9f9b6fb9",
      "a466bfb2515b4254a2ff5d53df5baf3e",
      "4e078125193d4e448eadbd66aaa932ca",
      "441c77f629e3476ab08ce44f1a57881a",
      "8a29f612ba7f40f292624e9ebf5b2d60",
      "03b9b5e1e9be4dbf91ecd886494f444a",
      "cfff9a67784e4637a3a50fee0af188e9",
      "741a541ac707482ca933c34cf8eb0078",
      "815ba08ef902440b879ebca9c2778c29",
      "a0d5e504ae2e4dadaa60dd892b480119",
      "9a1bfde73d7b4289a3d53e1ba78a62a7",
      "56a0968227b540159ac3142d362d57ae",
      "418d3bd30d5f4813a0ab1a1ec1f496ce",
      "75086b0475004f4ea7d9a70a72aa5184",
      "aa9516b11aba466c8081df7f9493e27d",
      "021e751a83ec464d8208527640000720",
      "ab5e1c0fa5dc46f2be98380d60c16215",
      "c5189eba85bd4340b1a11e9b32d15aad",
      "60db716c8ac847f392dab7fc7b47477e",
      "afbaf4d62f164847ab910c0babcb584f",
      "4700a160c0ba4a1a8c8d7ecaa62da575"
     ]
    },
    "id": "7s5A3mzj6TXf",
    "outputId": "a0ae6235-8391-40fd-8130-e66f444a751f"
   },
   "source": [
    "def align_labels(examples):\n",
    "    token_ids = tokenizer(examples[\"tokens\"], truncation=True, is_split_into_words=True)\n",
    "    labels = examples[\"ner_tags\"]\n",
    "\n",
    "    updated_labels = []\n",
    "    for index, label in enumerate(labels):\n",
    "\n",
    "        # 토큰을 해당 단어에 매핑합니다.\n",
    "        word_ids = token_ids.word_ids(batch_index=index)\n",
    "        previous_word_idx = None\n",
    "        label_ids = []\n",
    "        for word_idx in word_ids:\n",
    "\n",
    "            # 새로운 단어의 시작\n",
    "            if word_idx != previous_word_idx:\n",
    "\n",
    "                previous_word_idx = word_idx\n",
    "                updated_label = -100 if word_idx is None else label[word_idx]\n",
    "                label_ids.append(updated_label)\n",
    "\n",
    "            # 특수 토큰은 -100\n",
    "            elif word_idx is None:\n",
    "                label_ids.append(-100)\n",
    "\n",
    "            # # 레이블이 B-XXX이면 I-XXX로 바꿉니다.\n",
    "            else:\n",
    "                updated_label = label[word_idx]\n",
    "                if updated_label % 2 == 1:\n",
    "                    updated_label += 1\n",
    "                label_ids.append(updated_label)\n",
    "\n",
    "        updated_labels.append(label_ids)\n",
    "\n",
    "    token_ids[\"labels\"] = updated_labels\n",
    "    return token_ids\n",
    "\n",
    "tokenized = dataset.map(align_labels, batched=True)"
   ],
   "outputs": [],
   "execution_count": null
  },
  {
   "cell_type": "code",
   "metadata": {
    "colab": {
     "base_uri": "https://localhost:8080/"
    },
    "id": "gIWOMzE-AhTu",
    "outputId": "385e3cc6-31ac-4460-caff-0c184d29a87e"
   },
   "source": [
    "# 원본 레이블와 업데이트된 레이블\n",
    "print(f\"원본 레이블: {example['ner_tags']}\")\n",
    "print(f\"업데이트된 레이블: {tokenized['train'][848]['labels']}\")"
   ],
   "outputs": [],
   "execution_count": null
  },
  {
   "cell_type": "code",
   "metadata": {
    "colab": {
     "base_uri": "https://localhost:8080/",
     "height": 49,
     "referenced_widgets": [
      "17429ed9bbf74e72ace76ffe405701c8",
      "311ee64c935f437a8d03eeb3b0e0bdc4",
      "d4e3f6893750433aa8deae0f204cea3b",
      "b57b2cbc66224eb1a7a7d16efb7f851a",
      "e401361adaab4b47bae528537b89d7cb",
      "91e2ff49506844a6995cba246d961486",
      "398ed07c239144b3a3542d6e29bd4c8a",
      "ac1c734d4a9044edb53a638857d47ba4",
      "bcf17d06d1f24099b9a1c0330975e189",
      "03f1a1de22b449d4aace490856b4e374",
      "4fdac0465b4e4eed802329c75ffba4ab"
     ]
    },
    "id": "bA9nE7E6g97p",
    "outputId": "225e3b97-e1ea-45ad-8c6b-02957e789096"
   },
   "source": [
    "import evaluate\n",
    "\n",
    "# seqeval을 로드합니다.\n",
    "seqeval = evaluate.load(\"seqeval\")\n",
    "\n",
    "def compute_metrics(eval_pred):\n",
    "    # 예측을 만듭니다.\n",
    "    logits, labels = eval_pred\n",
    "    predictions = np.argmax(logits, axis=2)\n",
    "\n",
    "    true_predictions = []\n",
    "    true_labels = []\n",
    "\n",
    "    # 문서 수준 반복\n",
    "    for prediction, label in zip(predictions, labels):\n",
    "\n",
    "      # 토큰 수준 반복\n",
    "      for token_prediction, token_label in zip(prediction, label):\n",
    "\n",
    "        # 특수 토큰은 무시합니다.\n",
    "        if token_label != -100:\n",
    "          true_predictions.append([id2label[token_prediction]])\n",
    "          true_labels.append([id2label[token_label]])\n",
    "\n",
    "    results = seqeval.compute(predictions=true_predictions, references=true_labels)\n",
    "    return {\"f1\": results[\"overall_f1\"]}"
   ],
   "outputs": [],
   "execution_count": null
  },
  {
   "cell_type": "code",
   "metadata": {
    "id": "m0S4ZajdCaJl"
   },
   "source": [
    "from transformers import DataCollatorForTokenClassification\n",
    "\n",
    "# 토큰 분류 DataCollator\n",
    "data_collator = DataCollatorForTokenClassification(tokenizer=tokenizer)"
   ],
   "outputs": [],
   "execution_count": null
  },
  {
   "cell_type": "code",
   "metadata": {
    "colab": {
     "base_uri": "https://localhost:8080/",
     "height": 161
    },
    "id": "S76kRYZtBr5c",
    "outputId": "7cda0ae0-8371-478e-eb3f-623526f02cc6"
   },
   "source": [
    "# 훈련 매개변수\n",
    "training_args = TrainingArguments(\n",
    "   \"model\",\n",
    "   learning_rate=2e-5,\n",
    "   per_device_train_batch_size=16,\n",
    "   per_device_eval_batch_size=16,\n",
    "   num_train_epochs=1,\n",
    "   weight_decay=0.01,\n",
    "   save_strategy=\"epoch\",\n",
    "   report_to=\"none\"\n",
    ")\n",
    "\n",
    "# Trainer 객체 생성\n",
    "trainer = Trainer(\n",
    "    model=model,\n",
    "    args=training_args,\n",
    "    train_dataset=tokenized[\"train\"],\n",
    "    eval_dataset=tokenized[\"test\"],\n",
    "    processing_class=tokenizer,\n",
    "    data_collator=data_collator,\n",
    "    compute_metrics=compute_metrics,\n",
    ")\n",
    "trainer.train()"
   ],
   "outputs": [],
   "execution_count": null
  },
  {
   "cell_type": "code",
   "metadata": {
    "colab": {
     "base_uri": "https://localhost:8080/",
     "height": 147
    },
    "id": "ds5osPr9T0pq",
    "outputId": "09188c5c-9a93-4d03-b65e-c1614b1a6129"
   },
   "source": [
    "# 테스트 데이터에서 모델을 평가합니다.\n",
    "trainer.evaluate()"
   ],
   "outputs": [],
   "execution_count": null
  },
  {
   "cell_type": "code",
   "metadata": {
    "colab": {
     "base_uri": "https://localhost:8080/"
    },
    "id": "Q0PAXyzT-N45",
    "outputId": "9fbc8165-a71b-4636-a765-068bd01f4811"
   },
   "source": [
    "from transformers import pipeline\n",
    "\n",
    "# 미세 튜닝된 모델을 저장합니다.\n",
    "trainer.save_model(\"ner_model\")\n",
    "\n",
    "# 미세 튜닝된 모델로 추론을 수행합니다.\n",
    "token_classifier = pipeline(\n",
    "    \"token-classification\",\n",
    "    model=\"ner_model\",\n",
    ")\n",
    "token_classifier(\"My name is Maarten.\")"
   ],
   "outputs": [],
   "execution_count": null
  }
 ],
 "metadata": {
  "accelerator": "GPU",
  "colab": {
   "gpuType": "T4",
   "provenance": []
  },
  "kernelspec": {
   "display_name": "Python 3 (ipykernel)",
   "language": "python",
   "name": "python3"
  },
  "language_info": {
   "codemirror_mode": {
    "name": "ipython",
    "version": 3
   },
   "file_extension": ".py",
   "mimetype": "text/x-python",
   "name": "python",
   "nbconvert_exporter": "python",
   "pygments_lexer": "ipython3",
   "version": "3.8.18"
  }
 },
 "nbformat": 4,
 "nbformat_minor": 4
}
